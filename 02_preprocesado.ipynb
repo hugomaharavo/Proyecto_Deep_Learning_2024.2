{
  "nbformat": 4,
  "nbformat_minor": 0,
  "metadata": {
    "colab": {
      "provenance": [],
      "authorship_tag": "ABX9TyMgO9o1deah5kOnsmsVc1P8",
      "include_colab_link": true
    },
    "kernelspec": {
      "name": "python3",
      "display_name": "Python 3"
    },
    "language_info": {
      "name": "python"
    }
  },
  "cells": [
    {
      "cell_type": "markdown",
      "metadata": {
        "id": "view-in-github",
        "colab_type": "text"
      },
      "source": [
        "<a href=\"https://colab.research.google.com/github/hugomaharavo/Proyecto_Deep_Learning_2024.2/blob/main/02_preprocesado.ipynb\" target=\"_parent\"><img src=\"https://colab.research.google.com/assets/colab-badge.svg\" alt=\"Open In Colab\"/></a>"
      ]
    },
    {
      "cell_type": "code",
      "execution_count": 1,
      "metadata": {
        "colab": {
          "base_uri": "https://localhost:8080/"
        },
        "id": "xSHZSJHycO5t",
        "outputId": "2b550579-257f-4e3f-cf91-b3567b065fea"
      },
      "outputs": [
        {
          "output_type": "stream",
          "name": "stdout",
          "text": [
            "Requirement already satisfied: kaggle in /usr/local/lib/python3.10/dist-packages (1.6.17)\n",
            "Requirement already satisfied: six>=1.10 in /usr/local/lib/python3.10/dist-packages (from kaggle) (1.16.0)\n",
            "Requirement already satisfied: certifi>=2023.7.22 in /usr/local/lib/python3.10/dist-packages (from kaggle) (2024.8.30)\n",
            "Requirement already satisfied: python-dateutil in /usr/local/lib/python3.10/dist-packages (from kaggle) (2.8.2)\n",
            "Requirement already satisfied: requests in /usr/local/lib/python3.10/dist-packages (from kaggle) (2.32.3)\n",
            "Requirement already satisfied: tqdm in /usr/local/lib/python3.10/dist-packages (from kaggle) (4.66.6)\n",
            "Requirement already satisfied: python-slugify in /usr/local/lib/python3.10/dist-packages (from kaggle) (8.0.4)\n",
            "Requirement already satisfied: urllib3 in /usr/local/lib/python3.10/dist-packages (from kaggle) (2.2.3)\n",
            "Requirement already satisfied: bleach in /usr/local/lib/python3.10/dist-packages (from kaggle) (6.2.0)\n",
            "Requirement already satisfied: webencodings in /usr/local/lib/python3.10/dist-packages (from bleach->kaggle) (0.5.1)\n",
            "Requirement already satisfied: text-unidecode>=1.3 in /usr/local/lib/python3.10/dist-packages (from python-slugify->kaggle) (1.3)\n",
            "Requirement already satisfied: charset-normalizer<4,>=2 in /usr/local/lib/python3.10/dist-packages (from requests->kaggle) (3.4.0)\n",
            "Requirement already satisfied: idna<4,>=2.5 in /usr/local/lib/python3.10/dist-packages (from requests->kaggle) (3.10)\n",
            "Dataset URL: https://www.kaggle.com/datasets/imbikramsaha/food11\n",
            "License(s): CC0-1.0\n",
            "Downloading food11.zip to /content\n",
            "100% 518M/519M [00:04<00:00, 165MB/s]\n",
            "100% 519M/519M [00:04<00:00, 117MB/s]\n"
          ]
        }
      ],
      "source": [
        "!pip install kaggle\n",
        "!kaggle datasets download -d imbikramsaha/food11\n",
        "import zipfile\n",
        "with zipfile.ZipFile('food11.zip', 'r') as zip_ref:\n",
        "    zip_ref.extractall('food11')"
      ]
    },
    {
      "cell_type": "code",
      "source": [
        "import os\n",
        "\n",
        "# Define paths\n",
        "train_dir = 'food11/food11/train'\n",
        "test_dir = 'food11/food11/test'\n",
        "\n",
        "# Función para contar imágenes en cada categoría\n",
        "def count_images_in_directory(directory):\n",
        "    category_counts = {}\n",
        "    total_images = 0\n",
        "    for category in os.listdir(directory):\n",
        "        category_path = os.path.join(directory, category)\n",
        "        if os.path.isdir(category_path):\n",
        "            num_images = len(os.listdir(category_path))\n",
        "            category_counts[category] = num_images\n",
        "            total_images += num_images\n",
        "    return category_counts, total_images\n",
        "\n",
        "# Contar imágenes en los conjuntos de train y test\n",
        "train_counts, train_total = count_images_in_directory(train_dir)\n",
        "test_counts, test_total = count_images_in_directory(test_dir)\n",
        "\n",
        "# Mostrar resultados\n",
        "print(\"Training Set:\")\n",
        "for category, count in train_counts.items():\n",
        "    print(f\"  {category}: {count} images\")\n",
        "print(f\"Total de imágenes del conjunto de train: {train_total}\")\n",
        "\n",
        "print(\"\\nTest Set:\")\n",
        "for category, count in test_counts.items():\n",
        "    print(f\"  {category}: {count} images\")\n",
        "print(f\"Total de imágenes del conjunto de test: {test_total}\")"
      ],
      "metadata": {
        "colab": {
          "base_uri": "https://localhost:8080/"
        },
        "id": "-Pm1-HLGdErq",
        "outputId": "61bfcf9d-3cb3-4cac-d17f-f1bdac7b72e4"
      },
      "execution_count": 2,
      "outputs": [
        {
          "output_type": "stream",
          "name": "stdout",
          "text": [
            "Training Set:\n",
            "  fried_rice: 900 images\n",
            "  hamburger: 900 images\n",
            "  pizza: 900 images\n",
            "  cheesecake: 900 images\n",
            "  french_fries: 900 images\n",
            "  ice_cream: 900 images\n",
            "  omelette: 900 images\n",
            "  sushi: 900 images\n",
            "  apple_pie: 900 images\n",
            "  chicken_curry: 900 images\n",
            "  hot_dog: 900 images\n",
            "Total de imágenes del conjunto de train: 9900\n",
            "\n",
            "Test Set:\n",
            "  fried_rice: 100 images\n",
            "  hamburger: 100 images\n",
            "  pizza: 100 images\n",
            "  cheesecake: 100 images\n",
            "  french_fries: 100 images\n",
            "  ice_cream: 100 images\n",
            "  omelette: 100 images\n",
            "  sushi: 100 images\n",
            "  apple_pie: 100 images\n",
            "  chicken_curry: 100 images\n",
            "  hot_dog: 100 images\n",
            "Total de imágenes del conjunto de test: 1100\n"
          ]
        }
      ]
    },
    {
      "cell_type": "code",
      "source": [
        "import os\n",
        "import numpy as np\n",
        "import tensorflow as tf\n",
        "from tensorflow.keras.models import Sequential\n",
        "from tensorflow.keras.layers import Flatten, Dense, Dropout\n",
        "from tensorflow.keras.preprocessing.image import ImageDataGenerator\n",
        "\n",
        "# Define paths\n",
        "train_dir = 'food11/food11/train'\n",
        "test_dir = 'food11/food11/test'\n",
        "\n",
        "# Aumento de datos mejorado para el training set\n",
        "train_datagen = ImageDataGenerator(\n",
        "    rescale=1.0 / 255,\n",
        "    rotation_range=50,\n",
        "    width_shift_range=0.3,\n",
        "    height_shift_range=0.3,\n",
        "    shear_range=0.3,\n",
        "    zoom_range=0.4,\n",
        "    horizontal_flip=True,\n",
        "    brightness_range=[0.7, 1.3]\n",
        ")\n",
        "\n",
        "# Preprocesamiento para el test set\n",
        "test_datagen = ImageDataGenerator(rescale=1.0 / 255)\n",
        "\n",
        "# Carga training and test data\n",
        "IMG_SIZE = (128, 128)\n",
        "BATCH_SIZE = 32\n",
        "\n",
        "train_data = train_datagen.flow_from_directory(\n",
        "    train_dir,\n",
        "    target_size=IMG_SIZE,\n",
        "    batch_size=BATCH_SIZE,\n",
        "    class_mode='categorical'\n",
        ")\n",
        "\n",
        "test_data = test_datagen.flow_from_directory(\n",
        "    test_dir,\n",
        "    target_size=IMG_SIZE,\n",
        "    batch_size=BATCH_SIZE,\n",
        "    class_mode='categorical'\n",
        ")"
      ],
      "metadata": {
        "id": "93w3nhA7moLP",
        "colab": {
          "base_uri": "https://localhost:8080/"
        },
        "outputId": "ac101503-2be9-4dad-ae1c-a47c414a8c04"
      },
      "execution_count": 5,
      "outputs": [
        {
          "output_type": "stream",
          "name": "stdout",
          "text": [
            "Found 9900 images belonging to 11 classes.\n",
            "Found 1100 images belonging to 11 classes.\n"
          ]
        }
      ]
    }
  ]
}